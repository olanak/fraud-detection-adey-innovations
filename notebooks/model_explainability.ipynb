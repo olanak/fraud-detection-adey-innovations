{
 "cells": [
  {
   "cell_type": "code",
   "execution_count": null,
   "metadata": {},
   "outputs": [],
   "source": [
    "import os\n",
    "import joblib\n",
    "import pandas as pd\n",
    "import shap\n",
    "from lime import lime_tabular\n",
    "import matplotlib.pyplot as plt\n"
   ]
  },
  {
   "cell_type": "code",
   "execution_count": null,
   "metadata": {},
   "outputs": [],
   "source": [
    "# Load model and data\n",
    "model = joblib.load('../models/random_forest_fraud_model.pkl')\n",
    "X_test = pd.read_csv('../data/processed/test_data.csv').drop('is_fraud', axis=1)"
   ]
  },
  {
   "cell_type": "code",
   "execution_count": null,
   "metadata": {},
   "outputs": [],
   "source": [
    "# Create explanations directory\n",
    "os.makedirs('../explanations/shap', exist_ok=True)\n",
    "os.makedirs('../explanations/lime', exist_ok=True)"
   ]
  },
  {
   "cell_type": "code",
   "execution_count": null,
   "metadata": {},
   "outputs": [],
   "source": [
    "## SHAP Analysis\n",
    "# %%\n",
    "# Initialize SHAP explainer\n",
    "explainer = shap.TreeExplainer(model)\n",
    "shap_values = explainer.shap_values(X_test)"
   ]
  },
  {
   "cell_type": "code",
   "execution_count": null,
   "metadata": {},
   "outputs": [],
   "source": [
    "# Summary plot\n",
    "shap.summary_plot(shap_values[1], X_test, show=False)\n",
    "plt.savefig('../explanations/shap/summary_plot.png', bbox_inches='tight')\n",
    "plt.close()"
   ]
  },
  {
   "cell_type": "code",
   "execution_count": null,
   "metadata": {},
   "outputs": [],
   "source": [
    "# Force plot for first prediction\n",
    "shap.force_plot(\n",
    "    explainer.expected_value[1], \n",
    "    shap_values[1][0], \n",
    "    X_test.iloc[0],\n",
    "    matplotlib=True,\n",
    "    show=False\n",
    ")\n",
    "plt.savefig('../explanations/shap/force_plot.png')  # Alternative: HTML version\n",
    "# shap.save_html('../explanations/shap/force_plot.html', force_plot)"
   ]
  },
  {
   "cell_type": "code",
   "execution_count": null,
   "metadata": {},
   "outputs": [],
   "source": [
    "# Dependence plot\n",
    "shap.dependence_plot(\n",
    "    'transaction_amount', \n",
    "    shap_values[1], \n",
    "    X_test,\n",
    "    interaction_index='merchant_category'\n",
    ")\n",
    "plt.savefig('../explanations/shap/dependence_plot.png')\n",
    "plt.close()"
   ]
  },
  {
   "cell_type": "code",
   "execution_count": null,
   "metadata": {},
   "outputs": [],
   "source": [
    "## LIME Analysis\n",
    "# %%\n",
    "# Initialize LIME explainer\n",
    "explainer = lime_tabular.LimeTabularExplainer(\n",
    "    training_data=X_test.values,\n",
    "    feature_names=X_test.columns,\n",
    "    class_names=['Legitimate', 'Fraud'],\n",
    "    mode='classification'\n",
    ")\n",
    "\n",
    "# Explain first instance\n",
    "exp = explainer.explain_instance(\n",
    "    X_test.iloc[0].values, \n",
    "    model.predict_proba, \n",
    "    num_features=10\n",
    ")\n",
    "\n",
    "# Save explanation\n",
    "fig = exp.as_pyplot_figure()\n",
    "fig.savefig('../explanations/lime/lime_explanation_0.png', bbox_inches='tight')\n",
    "plt.close()"
   ]
  }
 ],
 "metadata": {
  "kernelspec": {
   "display_name": "venv",
   "language": "python",
   "name": "python3"
  },
  "language_info": {
   "name": "python",
   "version": "3.12.3"
  }
 },
 "nbformat": 4,
 "nbformat_minor": 2
}
